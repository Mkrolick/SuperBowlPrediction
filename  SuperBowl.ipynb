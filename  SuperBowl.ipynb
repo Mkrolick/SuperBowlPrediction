{
 "cells": [
  {
   "cell_type": "code",
   "execution_count": 31,
   "metadata": {},
   "outputs": [
    {
     "name": "stdout",
     "output_type": "stream",
     "text": [
      "                       Tm   PF   PA  SoS  PointD       quid\n",
      "12   San Francisco 49ers*  450  277  4.7     173   5.744681\n",
      "0    Philadelphia Eagles*  477  344  5.7     133  11.754386\n",
      "1         Dallas Cowboys+  467  342  6.2     125  12.096774\n",
      "5           Detroit Lions  453  427  7.7      26  22.597403\n",
      "6       Green Bay Packers  370  371  7.4      -1  27.162162\n",
      "4      Minnesota Vikings*  424  427  7.1      -3  28.591549\n",
      "2        New York Giants+  365  371  7.0      -6  29.428571\n",
      "3   Washington Commanders  321  343  7.4     -22  30.000000\n",
      "13      Seattle Seahawks+  407  401  6.2       6  31.290323\n",
      "10     New Orleans Saints  330  345  6.7     -15  32.089552\n",
      "8   Tampa Bay Buccaneers*  313  358  7.4     -45  33.108108\n",
      "9       Carolina Panthers  347  374  6.4     -27  35.468750\n",
      "11        Atlanta Falcons  365  386  6.1     -21  36.229508\n",
      "14       Los Angeles Rams  307  384  7.5     -77  36.933333\n",
      "7           Chicago Bears  326  463  8.6    -137  39.186047\n",
      "15      Arizona Cardinals  340  449  7.2    -109  42.916667\n",
      "                       Tm   PF   PA  SoS  PointD       quid\n",
      "7          Buffalo Bills*  455  286  7.4     169   4.189189\n",
      "13    Kansas City Chiefs*  496  369  5.8     127  12.586207\n",
      "6     Cincinnati Bengals*  418  322  7.9      96  13.164557\n",
      "3       Baltimore Ravens+  350  315  8.1      35  20.370370\n",
      "0         Miami Dolphins+  397  399  9.0      -2  22.444444\n",
      "5    New England Patriots  364  347  8.0      17  22.875000\n",
      "1           New York Jets  296  316  9.0     -20  24.444444\n",
      "15  Jacksonville Jaguars*  404  350  5.6      54  26.071429\n",
      "4        Cleveland Browns  361  381  8.1     -20  27.160494\n",
      "2     Pittsburgh Steelers  308  346  8.5     -38  28.000000\n",
      "14  Los Angeles Chargers+  391  384  5.7       7  33.859649\n",
      "8        Tennessee Titans  298  359  7.0     -61  37.285714\n",
      "12      Las Vegas Raiders  395  418  5.9     -23  37.796610\n",
      "10         Denver Broncos  287  359  6.3     -72  43.174603\n",
      "9      Indianapolis Colts  289  427  6.5    -138  52.000000\n",
      "11         Houston Texans  289  420  6.2    -131  53.387097\n"
     ]
    },
    {
     "name": "stderr",
     "output_type": "stream",
     "text": [
      "/var/folders/h_/2yl0qpws52scl6ykcwxf49600000gn/T/ipykernel_2975/2302545709.py:5: SettingWithCopyWarning: \n",
      "A value is trying to be set on a copy of a slice from a DataFrame.\n",
      "Try using .loc[row_indexer,col_indexer] = value instead\n",
      "\n",
      "See the caveats in the documentation: https://pandas.pydata.org/pandas-docs/stable/user_guide/indexing.html#returning-a-view-versus-a-copy\n",
      "  df[\"PointD\"] = df.apply(lambda row: row.PF-row.PA, axis=1)\n",
      "/var/folders/h_/2yl0qpws52scl6ykcwxf49600000gn/T/ipykernel_2975/2302545709.py:6: SettingWithCopyWarning: \n",
      "A value is trying to be set on a copy of a slice from a DataFrame.\n",
      "Try using .loc[row_indexer,col_indexer] = value instead\n",
      "\n",
      "See the caveats in the documentation: https://pandas.pydata.org/pandas-docs/stable/user_guide/indexing.html#returning-a-view-versus-a-copy\n",
      "  df[\"SoS\"] += 7\n",
      "/var/folders/h_/2yl0qpws52scl6ykcwxf49600000gn/T/ipykernel_2975/2302545709.py:7: SettingWithCopyWarning: \n",
      "A value is trying to be set on a copy of a slice from a DataFrame.\n",
      "Try using .loc[row_indexer,col_indexer] = value instead\n",
      "\n",
      "See the caveats in the documentation: https://pandas.pydata.org/pandas-docs/stable/user_guide/indexing.html#returning-a-view-versus-a-copy\n",
      "  df[\"quid\"] = df.apply(lambda row: (200-row.PointD)/row.SoS, axis = 1)\n",
      "/var/folders/h_/2yl0qpws52scl6ykcwxf49600000gn/T/ipykernel_2975/2302545709.py:8: SettingWithCopyWarning: \n",
      "A value is trying to be set on a copy of a slice from a DataFrame\n",
      "\n",
      "See the caveats in the documentation: https://pandas.pydata.org/pandas-docs/stable/user_guide/indexing.html#returning-a-view-versus-a-copy\n",
      "  df.sort_values(by = \"quid\", ascending = True, inplace = True)\n",
      "/var/folders/h_/2yl0qpws52scl6ykcwxf49600000gn/T/ipykernel_2975/2302545709.py:11: SettingWithCopyWarning: \n",
      "A value is trying to be set on a copy of a slice from a DataFrame.\n",
      "Try using .loc[row_indexer,col_indexer] = value instead\n",
      "\n",
      "See the caveats in the documentation: https://pandas.pydata.org/pandas-docs/stable/user_guide/indexing.html#returning-a-view-versus-a-copy\n",
      "  df2[\"PointD\"] = df2.apply(lambda row: row.PF-row.PA, axis=1)\n",
      "/var/folders/h_/2yl0qpws52scl6ykcwxf49600000gn/T/ipykernel_2975/2302545709.py:12: SettingWithCopyWarning: \n",
      "A value is trying to be set on a copy of a slice from a DataFrame.\n",
      "Try using .loc[row_indexer,col_indexer] = value instead\n",
      "\n",
      "See the caveats in the documentation: https://pandas.pydata.org/pandas-docs/stable/user_guide/indexing.html#returning-a-view-versus-a-copy\n",
      "  df2[\"SoS\"] += 7\n",
      "/var/folders/h_/2yl0qpws52scl6ykcwxf49600000gn/T/ipykernel_2975/2302545709.py:13: SettingWithCopyWarning: \n",
      "A value is trying to be set on a copy of a slice from a DataFrame.\n",
      "Try using .loc[row_indexer,col_indexer] = value instead\n",
      "\n",
      "See the caveats in the documentation: https://pandas.pydata.org/pandas-docs/stable/user_guide/indexing.html#returning-a-view-versus-a-copy\n",
      "  df2[\"quid\"] = df2.apply(lambda row: (200-row.PointD)/row.SoS, axis = 1)\n",
      "/var/folders/h_/2yl0qpws52scl6ykcwxf49600000gn/T/ipykernel_2975/2302545709.py:14: SettingWithCopyWarning: \n",
      "A value is trying to be set on a copy of a slice from a DataFrame\n",
      "\n",
      "See the caveats in the documentation: https://pandas.pydata.org/pandas-docs/stable/user_guide/indexing.html#returning-a-view-versus-a-copy\n",
      "  df2.sort_values(by = \"quid\", ascending = True, inplace = True)\n"
     ]
    }
   ],
   "source": [
    "import pandas as pd\n",
    "\n",
    "nfc = pd.read_csv(\"afc.csv\")\n",
    "afc = pd.read_csv(\"heart.csv\")\n",
    "df = nfc[[\"Tm\", \"PF\", \"PA\", \"SoS\"]]\n",
    "df[\"PointD\"] = df.apply(lambda row: row.PF-row.PA, axis=1)\n",
    "df[\"SoS\"] += 7\n",
    "df[\"quid\"] = df.apply(lambda row: (200-row.PointD)/row.SoS, axis = 1)\n",
    "df.sort_values(by = \"quid\", ascending = True, inplace = True)\n",
    "print(df)\n",
    "\n",
    "df2 = afc[[\"Tm\", \"PF\", \"PA\",\"SoS\"]]\n",
    "df2[\"PointD\"] = df2.apply(lambda row: row.PF-row.PA, axis=1)\n",
    "df2[\"SoS\"] += 7\n",
    "df2[\"quid\"] = df2.apply(lambda row: (200-row.PointD)/row.SoS, axis = 1)\n",
    "df2.sort_values(by = \"quid\", ascending = True, inplace = True)\n",
    "print(df2)"
   ]
  }
 ],
 "metadata": {
  "kernelspec": {
   "display_name": "Python 3",
   "language": "python",
   "name": "python3"
  },
  "language_info": {
   "codemirror_mode": {
    "name": "ipython",
    "version": 3
   },
   "file_extension": ".py",
   "mimetype": "text/x-python",
   "name": "python",
   "nbconvert_exporter": "python",
   "pygments_lexer": "ipython3",
   "version": "3.10.2 (v3.10.2:a58ebcc701, Jan 13 2022, 14:50:16) [Clang 13.0.0 (clang-1300.0.29.30)]"
  },
  "orig_nbformat": 4,
  "vscode": {
   "interpreter": {
    "hash": "aee8b7b246df8f9039afb4144a1f6fd8d2ca17a180786b69acc140d282b71a49"
   }
  }
 },
 "nbformat": 4,
 "nbformat_minor": 2
}
