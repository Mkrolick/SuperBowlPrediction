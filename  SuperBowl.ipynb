{
 "cells": [
  {
   "cell_type": "code",
   "execution_count": 1,
   "metadata": {},
   "outputs": [
    {
     "name": "stdout",
     "output_type": "stream",
     "text": [
      "                       Tm   PF   PA  SoS\n",
      "0    Philadelphia Eagles*  477  344 -1.3\n",
      "1         Dallas Cowboys+  467  342 -0.8\n",
      "2        New York Giants+  365  371  0.0\n",
      "3   Washington Commanders  321  343  0.4\n",
      "4      Minnesota Vikings*  424  427  0.1\n",
      "5           Detroit Lions  453  427  0.7\n",
      "6       Green Bay Packers  370  371  0.4\n",
      "7           Chicago Bears  326  463  1.6\n",
      "8   Tampa Bay Buccaneers*  313  358  0.4\n",
      "9       Carolina Panthers  347  374 -0.6\n",
      "10     New Orleans Saints  330  345 -0.3\n",
      "11        Atlanta Falcons  365  386 -0.9\n",
      "12   San Francisco 49ers*  450  277 -2.3\n",
      "13      Seattle Seahawks+  407  401 -0.8\n",
      "14       Los Angeles Rams  307  384  0.5\n",
      "15      Arizona Cardinals  340  449  0.2\n",
      "abc\n"
     ]
    }
   ],
   "source": [
    "import pandas as pd\n",
    "nfc = pd.read_csv(\"afc.csv\")\n",
    "afc = pd.read_csv(\"heart.csv\")\n",
    "df = nfc[[\"Tm\", \"PF\", \"PA\", \"SoS\"]]\n",
    "print(df)\n",
    "print(\"abc\")"
   ]
  }
 ],
 "metadata": {
  "kernelspec": {
   "display_name": "Python 3.9.12 ('base')",
   "language": "python",
   "name": "python3"
  },
  "language_info": {
   "codemirror_mode": {
    "name": "ipython",
    "version": 3
   },
   "file_extension": ".py",
   "mimetype": "text/x-python",
   "name": "python",
   "nbconvert_exporter": "python",
   "pygments_lexer": "ipython3",
   "version": "3.9.12"
  },
  "orig_nbformat": 4,
  "vscode": {
   "interpreter": {
    "hash": "40d444e15d4b5bb908f4b95c26d9b158a336fb6b786751c7d3022d89de8ad3f2"
   }
  }
 },
 "nbformat": 4,
 "nbformat_minor": 2
}
