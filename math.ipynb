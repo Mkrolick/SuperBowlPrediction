{
 "cells": [
  {
   "cell_type": "code",
   "execution_count": 1,
   "metadata": {},
   "outputs": [],
   "source": []
  },
  {
   "cell_type": "code",
   "execution_count": 14,
   "metadata": {},
   "outputs": [
    {
     "name": "stdout",
     "output_type": "stream",
     "text": [
      "6 3 22\n",
      "7 4 28\n",
      "8 4 34\n",
      "9 8 36\n",
      "10 5 41\n",
      "11 13 38\n",
      "12 5 43\n",
      "13 7 46\n",
      "14 6 50\n",
      "15 10 50\n",
      "16 8 52\n",
      "17 6 56\n",
      "18 8 58\n",
      "19 11 57\n",
      "20 7 60\n",
      "21 9 61\n",
      "22 14 57\n",
      "23 13 54\n",
      "24 10 54\n"
     ]
    },
    {
     "data": {
      "image/png": "[encoded data removed]",
      "text/plain": [
       "<Figure size 432x288 with 1 Axes>"
      ]
     },
     "metadata": {
      "needs_background": "light"
     },
     "output_type": "display_data"
    }
   ],
   "source": [
    "final_values = [15]\n",
    "\n",
    "value = 15\n",
    "for i in range(19):\n",
    "    x = 0\n",
    "    \n",
    "    dice = [random.randint(1, 6) for x in range(value)]\n",
    "    values = [1 for x in dice if x == 6]\n",
    "\n",
    "    value -= sum(values)    \n",
    "    value += 10\n",
    "    final_values.append(value)\n",
    "    print(i + 6, sum(values), value)\n",
    "\n",
    "\n",
    "import matplotlib.pyplot as plt\n",
    "plt.plot(final_values)\n",
    "plt.title(\"Fishing Pond\")\n",
    "plt.show()\n",
    "\n"
   ]
  },
  {
   "cell_type": "code",
   "execution_count": 38,
   "metadata": {},
   "outputs": [
    {
     "name": "stdout",
     "output_type": "stream",
     "text": [
      "20 0\n",
      "16 4\n",
      "12 8\n",
      "13 7\n",
      "14 6\n",
      "13 7\n",
      "9 11\n",
      "10 10\n",
      "12 8\n",
      "10 10\n",
      "9 11\n",
      "9 11\n",
      "9 11\n",
      "10 10\n",
      "13 7\n",
      "13 7\n",
      "10 10\n",
      "8 12\n",
      "9 11\n",
      "9 11\n"
     ]
    },
    {
     "data": {
      "image/png": "[encoded data removed]",
      "text/plain": [
       "<Figure size 432x288 with 1 Axes>"
      ]
     },
     "metadata": {
      "needs_background": "light"
     },
     "output_type": "display_data"
    }
   ],
   "source": [
    "import random\n",
    "\n",
    "\n",
    "\n",
    "final_values_salt = [20]\n",
    "\n",
    "fresh_value = 0 \n",
    "salt_value = 20\n",
    "print(salt_value, fresh_value)\n",
    "\n",
    "\n",
    "\n",
    "for i in range(19):\n",
    "    \n",
    "    salt_dice = [random.randint(1, 6) for x in range(salt_value)]\n",
    "    salt_values = [1 for x in salt_dice if x == 6]\n",
    "    salt_value -= sum(salt_values)    \n",
    "\n",
    "    temp_fresh_value = sum(salt_values) \n",
    "\n",
    "    fresh_dice = [random.randint(1, 6) for x in range(fresh_value)]\n",
    "    fresh_values = [1 for x in fresh_dice if x == 6]\n",
    "\n",
    "    fresh_value -= sum(fresh_values)\n",
    "    salt_value += sum(fresh_values)\n",
    "\n",
    "    fresh_value += temp_fresh_value\n",
    "\n",
    "    #print(sum(fresh_values), sum(salt_values))\n",
    "\n",
    "    final_values_salt.append(salt_value)\n",
    "    #print(i, sum(salt_values), salt_value)\n",
    "    print(salt_value, fresh_value)\n",
    "\n",
    "\n",
    "\n",
    "import matplotlib.pyplot as plt\n",
    "plt.plot(final_values_salt)\n",
    "plt.title(\"Fishing Pond\")\n",
    "plt.xlim(0, 20)\n",
    "plt.ylim(0, 20)\n",
    "plt.show()\n",
    "\n"
   ]
  },
  {
   "cell_type": "code",
   "execution_count": 39,
   "metadata": {},
   "outputs": [
    {
     "ename": "IndentationError",
     "evalue": "expected an indented block after class definition on line 5 (699125852.py, line 5)",
     "output_type": "error",
     "traceback": [
      "\u001b[0;36m  Input \u001b[0;32mIn [39]\u001b[0;36m\u001b[0m\n\u001b[0;31m    class people():\u001b[0m\n\u001b[0m                   ^\u001b[0m\n\u001b[0;31mIndentationError\u001b[0m\u001b[0;31m:\u001b[0m expected an indented block after class definition on line 5\n"
     ]
    }
   ],
   "source": [
    "# model sickness\n",
    "\n",
    "number_ppl = 24\n",
    "\n",
    "class people():\n",
    "    "
   ]
  },
  {
   "cell_type": "code",
   "execution_count": null,
   "metadata": {},
   "outputs": [],
   "source": []
  }
 ],
 "metadata": {
  "kernelspec": {
   "display_name": "Python 3",
   "language": "python",
   "name": "python3"
  },
  "language_info": {
   "codemirror_mode": {
    "name": "ipython",
    "version": 3
   },
   "file_extension": ".py",
   "mimetype": "text/x-python",
   "name": "python",
   "nbconvert_exporter": "python",
   "pygments_lexer": "ipython3",
   "version": "3.10.2"
  },
  "orig_nbformat": 4,
  "vscode": {
   "interpreter": {
    "hash": "aee8b7b246df8f9039afb4144a1f6fd8d2ca17a180786b69acc140d282b71a49"
   }
  }
 },
 "nbformat": 4,
 "nbformat_minor": 2
}
