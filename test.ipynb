{
 "cells": [
  {
   "cell_type": "code",
   "execution_count": 3,
   "metadata": {},
   "outputs": [
    {
     "name": "stdout",
     "output_type": "stream",
     "text": [
      "-5.9\n",
      "-0.36875\n",
      "2.3949735776204295\n"
     ]
    }
   ],
   "source": [
    "# afc.csv dataset\n",
    "\n",
    "import pandas as pd\n",
    "import numpy as np\n",
    "import random\n",
    "\n",
    "# Read the data\n",
    "df = pd.read_csv('afc.csv')\n",
    "print(sum(df[:][\"DSRS\"]))\n",
    "print(np.mean(df[:][\"DSRS\"]))\n",
    "print(np.std(df[:][\"DSRS\"]))"
   ]
  },
  {
   "cell_type": "code",
   "execution_count": 6,
   "metadata": {},
   "outputs": [],
   "source": [
    "\n",
    "df[\"OSRS\"] = df[\"OSRS\"].apply(lambda x: (x - np.mean(df[:][\"OSRS\"]))/np.std(df[:][\"OSRS\"]))\n",
    "df[\"DSRS\"] = df[\"DSRS\"].apply(lambda x: (x - np.mean(df[:][\"DSRS\"]))/np.std(df[:][\"DSRS\"]))"
   ]
  },
  {
   "cell_type": "code",
   "execution_count": 7,
   "metadata": {},
   "outputs": [
    {
     "name": "stdout",
     "output_type": "stream",
     "text": [
      "0.0\n",
      "0.0\n",
      "1.0\n"
     ]
    }
   ],
   "source": [
    "print(sum(df[:][\"DSRS\"]))\n",
    "print(np.mean(df[:][\"DSRS\"]))\n",
    "print(np.std(df[:][\"DSRS\"]))"
   ]
  },
  {
   "cell_type": "code",
   "execution_count": null,
   "metadata": {},
   "outputs": [],
   "source": []
  }
 ],
 "metadata": {
  "kernelspec": {
   "display_name": "Python 3",
   "language": "python",
   "name": "python3"
  },
  "language_info": {
   "codemirror_mode": {
    "name": "ipython",
    "version": 3
   },
   "file_extension": ".py",
   "mimetype": "text/x-python",
   "name": "python",
   "nbconvert_exporter": "python",
   "pygments_lexer": "ipython3",
   "version": "3.10.2 (v3.10.2:a58ebcc701, Jan 13 2022, 14:50:16) [Clang 13.0.0 (clang-1300.0.29.30)]"
  },
  "orig_nbformat": 4,
  "vscode": {
   "interpreter": {
    "hash": "aee8b7b246df8f9039afb4144a1f6fd8d2ca17a180786b69acc140d282b71a49"
   }
  }
 },
 "nbformat": 4,
 "nbformat_minor": 2
}
